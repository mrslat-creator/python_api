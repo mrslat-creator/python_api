{
 "cells": [
  {
   "cell_type": "markdown",
   "metadata": {},
   "source": [
    "# VacationPy\n",
    "----\n",
    "\n",
    "#### Note\n",
    "* Keep an eye on your API usage. Use https://developers.google.com/maps/reporting/gmp-reporting as reference for how to monitor your usage and billing.\n",
    "\n",
    "* Instructions have been included for each segment. You do not have to follow them exactly, but they are included to help you think through the steps."
   ]
  },
  {
   "cell_type": "code",
   "execution_count": 51,
   "metadata": {},
   "outputs": [],
   "source": [
    "# Dependencies and Setup\n",
    "import matplotlib.pyplot as plt\n",
    "import pandas as pd\n",
    "import numpy as np\n",
    "import requests\n",
    "import gmaps\n",
    "import os\n",
    "import json\n",
    "import pprint\n",
    "\n",
    "# Import API key\n",
    "from api_keys import g_key\n"
   ]
  },
  {
   "cell_type": "markdown",
   "metadata": {},
   "source": [
    "### Store Part I results into DataFrame\n",
    "* Load the csv exported in Part I to a DataFrame"
   ]
  },
  {
   "cell_type": "code",
   "execution_count": 52,
   "metadata": {},
   "outputs": [
    {
     "data": {
      "text/html": [
       "<div>\n",
       "<style scoped>\n",
       "    .dataframe tbody tr th:only-of-type {\n",
       "        vertical-align: middle;\n",
       "    }\n",
       "\n",
       "    .dataframe tbody tr th {\n",
       "        vertical-align: top;\n",
       "    }\n",
       "\n",
       "    .dataframe thead th {\n",
       "        text-align: right;\n",
       "    }\n",
       "</style>\n",
       "<table border=\"1\" class=\"dataframe\">\n",
       "  <thead>\n",
       "    <tr style=\"text-align: right;\">\n",
       "      <th></th>\n",
       "      <th>Unnamed: 0</th>\n",
       "      <th>City</th>\n",
       "      <th>Lat</th>\n",
       "      <th>Lng</th>\n",
       "      <th>Max Temp</th>\n",
       "      <th>Humidity</th>\n",
       "      <th>Cloudiness</th>\n",
       "      <th>Wind Speed</th>\n",
       "    </tr>\n",
       "  </thead>\n",
       "  <tbody>\n",
       "    <tr>\n",
       "      <th>0</th>\n",
       "      <td>0</td>\n",
       "      <td>Albany</td>\n",
       "      <td>42.6001</td>\n",
       "      <td>-73.9662</td>\n",
       "      <td>296.51</td>\n",
       "      <td>89</td>\n",
       "      <td>100</td>\n",
       "      <td>1.05</td>\n",
       "    </tr>\n",
       "    <tr>\n",
       "      <th>1</th>\n",
       "      <td>1</td>\n",
       "      <td>Bambous Virieux</td>\n",
       "      <td>-20.3428</td>\n",
       "      <td>57.7575</td>\n",
       "      <td>293.27</td>\n",
       "      <td>62</td>\n",
       "      <td>79</td>\n",
       "      <td>7.65</td>\n",
       "    </tr>\n",
       "    <tr>\n",
       "      <th>2</th>\n",
       "      <td>2</td>\n",
       "      <td>Tuktoyaktuk</td>\n",
       "      <td>69.4541</td>\n",
       "      <td>-133.0374</td>\n",
       "      <td>275.09</td>\n",
       "      <td>84</td>\n",
       "      <td>5</td>\n",
       "      <td>8.49</td>\n",
       "    </tr>\n",
       "    <tr>\n",
       "      <th>3</th>\n",
       "      <td>3</td>\n",
       "      <td>Mataura</td>\n",
       "      <td>-46.1927</td>\n",
       "      <td>168.8643</td>\n",
       "      <td>282.86</td>\n",
       "      <td>61</td>\n",
       "      <td>20</td>\n",
       "      <td>1.23</td>\n",
       "    </tr>\n",
       "    <tr>\n",
       "      <th>4</th>\n",
       "      <td>4</td>\n",
       "      <td>La Rioja</td>\n",
       "      <td>42.2500</td>\n",
       "      <td>-2.5000</td>\n",
       "      <td>283.73</td>\n",
       "      <td>95</td>\n",
       "      <td>100</td>\n",
       "      <td>0.64</td>\n",
       "    </tr>\n",
       "    <tr>\n",
       "      <th>...</th>\n",
       "      <td>...</td>\n",
       "      <td>...</td>\n",
       "      <td>...</td>\n",
       "      <td>...</td>\n",
       "      <td>...</td>\n",
       "      <td>...</td>\n",
       "      <td>...</td>\n",
       "      <td>...</td>\n",
       "    </tr>\n",
       "    <tr>\n",
       "      <th>534</th>\n",
       "      <td>534</td>\n",
       "      <td>Tarakan</td>\n",
       "      <td>3.3000</td>\n",
       "      <td>117.6333</td>\n",
       "      <td>301.87</td>\n",
       "      <td>79</td>\n",
       "      <td>20</td>\n",
       "      <td>2.57</td>\n",
       "    </tr>\n",
       "    <tr>\n",
       "      <th>535</th>\n",
       "      <td>535</td>\n",
       "      <td>Russell</td>\n",
       "      <td>32.3502</td>\n",
       "      <td>-85.1999</td>\n",
       "      <td>296.72</td>\n",
       "      <td>58</td>\n",
       "      <td>1</td>\n",
       "      <td>2.19</td>\n",
       "    </tr>\n",
       "    <tr>\n",
       "      <th>536</th>\n",
       "      <td>536</td>\n",
       "      <td>Kamina</td>\n",
       "      <td>-8.7386</td>\n",
       "      <td>24.9906</td>\n",
       "      <td>288.56</td>\n",
       "      <td>62</td>\n",
       "      <td>52</td>\n",
       "      <td>2.14</td>\n",
       "    </tr>\n",
       "    <tr>\n",
       "      <th>537</th>\n",
       "      <td>537</td>\n",
       "      <td>Praia</td>\n",
       "      <td>14.9215</td>\n",
       "      <td>-23.5087</td>\n",
       "      <td>294.45</td>\n",
       "      <td>78</td>\n",
       "      <td>0</td>\n",
       "      <td>3.60</td>\n",
       "    </tr>\n",
       "    <tr>\n",
       "      <th>538</th>\n",
       "      <td>538</td>\n",
       "      <td>Garden City</td>\n",
       "      <td>42.3256</td>\n",
       "      <td>-83.3310</td>\n",
       "      <td>299.81</td>\n",
       "      <td>58</td>\n",
       "      <td>75</td>\n",
       "      <td>2.55</td>\n",
       "    </tr>\n",
       "  </tbody>\n",
       "</table>\n",
       "<p>539 rows × 8 columns</p>\n",
       "</div>"
      ],
      "text/plain": [
       "     Unnamed: 0             City      Lat       Lng  Max Temp  Humidity  \\\n",
       "0             0           Albany  42.6001  -73.9662    296.51        89   \n",
       "1             1  Bambous Virieux -20.3428   57.7575    293.27        62   \n",
       "2             2      Tuktoyaktuk  69.4541 -133.0374    275.09        84   \n",
       "3             3          Mataura -46.1927  168.8643    282.86        61   \n",
       "4             4         La Rioja  42.2500   -2.5000    283.73        95   \n",
       "..          ...              ...      ...       ...       ...       ...   \n",
       "534         534          Tarakan   3.3000  117.6333    301.87        79   \n",
       "535         535          Russell  32.3502  -85.1999    296.72        58   \n",
       "536         536           Kamina  -8.7386   24.9906    288.56        62   \n",
       "537         537            Praia  14.9215  -23.5087    294.45        78   \n",
       "538         538      Garden City  42.3256  -83.3310    299.81        58   \n",
       "\n",
       "     Cloudiness  Wind Speed  \n",
       "0           100        1.05  \n",
       "1            79        7.65  \n",
       "2             5        8.49  \n",
       "3            20        1.23  \n",
       "4           100        0.64  \n",
       "..          ...         ...  \n",
       "534          20        2.57  \n",
       "535           1        2.19  \n",
       "536          52        2.14  \n",
       "537           0        3.60  \n",
       "538          75        2.55  \n",
       "\n",
       "[539 rows x 8 columns]"
      ]
     },
     "execution_count": 52,
     "metadata": {},
     "output_type": "execute_result"
    }
   ],
   "source": [
    "city_data_df = pd.read_csv(\"city_data.csv\")\n",
    "city_data_df"
   ]
  },
  {
   "cell_type": "markdown",
   "metadata": {},
   "source": [
    "### Humidity Heatmap\n",
    "* Configure gmaps.\n",
    "* Use the Lat and Lng as locations and Humidity as the weight.\n",
    "* Add Heatmap layer to map."
   ]
  },
  {
   "cell_type": "code",
   "execution_count": 53,
   "metadata": {},
   "outputs": [],
   "source": [
    "gmaps.configure(api_key=g_key)"
   ]
  },
  {
   "cell_type": "code",
   "execution_count": 54,
   "metadata": {},
   "outputs": [
    {
     "name": "stdout",
     "output_type": "stream",
     "text": [
      "Figure(layout=FigureLayout(height='420px'))\n"
     ]
    }
   ],
   "source": [
    "locations = city_data_df[[\"Lat\", \"Lng\"]]\n",
    "\n",
    "humidity = city_data_df[\"Humidity\"].astype(float)\n",
    "fig = gmaps.figure()\n",
    "\n",
    "heatmap_layer = gmaps.heatmap_layer(locations, weights=humidity,\n",
    "                                   dissipating=False, max_intensity=5,\n",
    "                                   point_radius=1)\n",
    "fig.add_layer(heatmap_layer)\n",
    "print(fig)"
   ]
  },
  {
   "cell_type": "markdown",
   "metadata": {},
   "source": [
    "### Create new DataFrame fitting weather criteria\n",
    "* Narrow down the cities to fit weather conditions.\n",
    "* Drop any rows will null values."
   ]
  },
  {
   "cell_type": "code",
   "execution_count": 55,
   "metadata": {},
   "outputs": [
    {
     "name": "stdout",
     "output_type": "stream",
     "text": [
      "                City  Max Temp  Wind Speed  Cloudiness\n",
      "0             Albany    296.51        1.05         100\n",
      "1    Bambous Virieux    293.27        7.65          79\n",
      "2        Tuktoyaktuk    275.09        8.49           5\n",
      "3            Mataura    282.86        1.23          20\n",
      "4           La Rioja    283.73        0.64         100\n",
      "..               ...       ...         ...         ...\n",
      "534          Tarakan    301.87        2.57          20\n",
      "535          Russell    296.72        2.19           1\n",
      "536           Kamina    288.56        2.14          52\n",
      "537            Praia    294.45        3.60           0\n",
      "538      Garden City    299.81        2.55          75\n",
      "\n",
      "[539 rows x 4 columns]\n"
     ]
    }
   ],
   "source": [
    "# Narrow down the cities to fit weather conditions\n",
    "# Max Temp lower than 80 degrees but higher than 70.\n",
    "# Wind speed less than 10mph\n",
    "# Zero clouds\n",
    "# Drop any rows that do not have all 3-conditions\n",
    "# Looking for nice weather for vacation\n",
    "\n",
    "nice_temps_df = pd.DataFrame(city_data_df, columns = [\"City\", \"Max Temp\", \"Wind Speed\", \"Cloudiness\"])\n",
    "\n",
    "max_temp = (nice_temps_df[\"Max Temp\"]<= 80) & (nice_temps_df[\"Max Temp\"] > 70)\n",
    "wind_speed = nice_temps_df[\"Wind Speed\"] < 10\n",
    "cloudiness = nice_temps_df[\"Cloudiness\"]\n",
    "\n",
    "# nice_temps_df\n",
    "nice_temps_df[max_temp & wind_speed & cloudiness]\n",
    "print(nice_temps_df)"
   ]
  },
  {
   "cell_type": "markdown",
   "metadata": {},
   "source": [
    "### Hotel Map\n",
    "* Store into variable named `hotel_df`.\n",
    "* Add a \"Hotel Name\" column to the DataFrame.\n",
    "* Set parameters to search for hotels with 5000 meters.\n",
    "* Hit the Google Places API for each city's coordinates.\n",
    "* Store the first Hotel result into the DataFrame.\n",
    "* Plot markers on top of the heatmap."
   ]
  },
  {
   "cell_type": "code",
   "execution_count": 56,
   "metadata": {},
   "outputs": [
    {
     "data": {
      "text/html": [
       "<div>\n",
       "<style scoped>\n",
       "    .dataframe tbody tr th:only-of-type {\n",
       "        vertical-align: middle;\n",
       "    }\n",
       "\n",
       "    .dataframe tbody tr th {\n",
       "        vertical-align: top;\n",
       "    }\n",
       "\n",
       "    .dataframe thead th {\n",
       "        text-align: right;\n",
       "    }\n",
       "</style>\n",
       "<table border=\"1\" class=\"dataframe\">\n",
       "  <thead>\n",
       "    <tr style=\"text-align: right;\">\n",
       "      <th></th>\n",
       "      <th>City</th>\n",
       "      <th>Country</th>\n",
       "      <th>Lat</th>\n",
       "      <th>Lng</th>\n",
       "      <th>Hotel Name</th>\n",
       "    </tr>\n",
       "  </thead>\n",
       "  <tbody>\n",
       "    <tr>\n",
       "      <th>0</th>\n",
       "      <td>Albany</td>\n",
       "      <td>NaN</td>\n",
       "      <td>42.6001</td>\n",
       "      <td>-73.9662</td>\n",
       "      <td></td>\n",
       "    </tr>\n",
       "    <tr>\n",
       "      <th>1</th>\n",
       "      <td>Bambous Virieux</td>\n",
       "      <td>NaN</td>\n",
       "      <td>-20.3428</td>\n",
       "      <td>57.7575</td>\n",
       "      <td></td>\n",
       "    </tr>\n",
       "    <tr>\n",
       "      <th>2</th>\n",
       "      <td>Tuktoyaktuk</td>\n",
       "      <td>NaN</td>\n",
       "      <td>69.4541</td>\n",
       "      <td>-133.0374</td>\n",
       "      <td></td>\n",
       "    </tr>\n",
       "    <tr>\n",
       "      <th>3</th>\n",
       "      <td>Mataura</td>\n",
       "      <td>NaN</td>\n",
       "      <td>-46.1927</td>\n",
       "      <td>168.8643</td>\n",
       "      <td></td>\n",
       "    </tr>\n",
       "    <tr>\n",
       "      <th>4</th>\n",
       "      <td>La Rioja</td>\n",
       "      <td>NaN</td>\n",
       "      <td>42.2500</td>\n",
       "      <td>-2.5000</td>\n",
       "      <td></td>\n",
       "    </tr>\n",
       "    <tr>\n",
       "      <th>...</th>\n",
       "      <td>...</td>\n",
       "      <td>...</td>\n",
       "      <td>...</td>\n",
       "      <td>...</td>\n",
       "      <td>...</td>\n",
       "    </tr>\n",
       "    <tr>\n",
       "      <th>534</th>\n",
       "      <td>Tarakan</td>\n",
       "      <td>NaN</td>\n",
       "      <td>3.3000</td>\n",
       "      <td>117.6333</td>\n",
       "      <td></td>\n",
       "    </tr>\n",
       "    <tr>\n",
       "      <th>535</th>\n",
       "      <td>Russell</td>\n",
       "      <td>NaN</td>\n",
       "      <td>32.3502</td>\n",
       "      <td>-85.1999</td>\n",
       "      <td></td>\n",
       "    </tr>\n",
       "    <tr>\n",
       "      <th>536</th>\n",
       "      <td>Kamina</td>\n",
       "      <td>NaN</td>\n",
       "      <td>-8.7386</td>\n",
       "      <td>24.9906</td>\n",
       "      <td></td>\n",
       "    </tr>\n",
       "    <tr>\n",
       "      <th>537</th>\n",
       "      <td>Praia</td>\n",
       "      <td>NaN</td>\n",
       "      <td>14.9215</td>\n",
       "      <td>-23.5087</td>\n",
       "      <td></td>\n",
       "    </tr>\n",
       "    <tr>\n",
       "      <th>538</th>\n",
       "      <td>Garden City</td>\n",
       "      <td>NaN</td>\n",
       "      <td>42.3256</td>\n",
       "      <td>-83.3310</td>\n",
       "      <td></td>\n",
       "    </tr>\n",
       "  </tbody>\n",
       "</table>\n",
       "<p>539 rows × 5 columns</p>\n",
       "</div>"
      ],
      "text/plain": [
       "                City  Country      Lat       Lng Hotel Name\n",
       "0             Albany      NaN  42.6001  -73.9662           \n",
       "1    Bambous Virieux      NaN -20.3428   57.7575           \n",
       "2        Tuktoyaktuk      NaN  69.4541 -133.0374           \n",
       "3            Mataura      NaN -46.1927  168.8643           \n",
       "4           La Rioja      NaN  42.2500   -2.5000           \n",
       "..               ...      ...      ...       ...        ...\n",
       "534          Tarakan      NaN   3.3000  117.6333           \n",
       "535          Russell      NaN  32.3502  -85.1999           \n",
       "536           Kamina      NaN  -8.7386   24.9906           \n",
       "537            Praia      NaN  14.9215  -23.5087           \n",
       "538      Garden City      NaN  42.3256  -83.3310           \n",
       "\n",
       "[539 rows x 5 columns]"
      ]
     },
     "execution_count": 56,
     "metadata": {},
     "output_type": "execute_result"
    }
   ],
   "source": [
    "hotel_df = pd.DataFrame(city_data_df, columns=[\"City\", \"Country\", \"Lat\", \"Lng\"])\n",
    "\n",
    "hotel_df[\"Hotel Name\"] = \"\"\n",
    "\n",
    "hotel_df"
   ]
  },
  {
   "cell_type": "code",
   "execution_count": 57,
   "metadata": {},
   "outputs": [],
   "source": [
    "# Targeting for Hotel locations\n",
    "target_coordinates = f\"{hotel_df['Lat'][0]},{hotel_df['Lng'][0]}\"\n",
    "target_search = \"hotel\"\n",
    "target_radius = 5000\n",
    "target_type= \"hotel\"\n",
    "\n",
    "# Parameters Dictionary\n",
    "params = {\n",
    "    \"location\": target_coordinates,\n",
    "    \"keyword\": target_search,\n",
    "    \"radius\": target_radius,\n",
    "    \"type\": target_type,\n",
    "    \"key\": g_key\n",
    "}\n",
    "\n",
    "# base url\n",
    "base_url = \"https://maps.googleapis.com/maps/api/place/nearbysearh/json\"\n",
    "\n",
    "# Use params dictionary to request a response\n",
    "response = requests.get(base_url, params=params)"
   ]
  },
  {
   "cell_type": "code",
   "execution_count": 58,
   "metadata": {},
   "outputs": [
    {
     "data": {
      "text/plain": [
       "'Albany'"
      ]
     },
     "execution_count": 58,
     "metadata": {},
     "output_type": "execute_result"
    }
   ],
   "source": [
    "hotel_df.iloc[0][0]"
   ]
  },
  {
   "cell_type": "code",
   "execution_count": 59,
   "metadata": {},
   "outputs": [],
   "source": [
    "# Creating a list to capture hotel names to insert into DataFrame\n",
    "hotel_name =[]\n",
    "\n",
    "# Update params dictionary at each iteration\n",
    "params = {\n",
    "    \"radius\": 5000,\n",
    "    \"type\": \"hotel\",\n",
    "    \"keyword\": \"hotel\",\n",
    "    \"Key\": g_key\n",
    "}\n",
    "\n",
    "for index, row in hotel_df.iterrows():\n",
    "    # Pull latitude and longitude from DataFrame\n",
    "    lat = row[\"Lat\"]\n",
    "    lng = row[\"Lng\"]\n",
    "    \n",
    "    # Change location with each iteration while leaving original params in place\n",
    "    params[\"location\"] = f\"{lat},{lng}\"\n",
    "    \n",
    "    base_url = \"https://maps.googleapis.com/maps/api/place/nearbysearch/json\"\n",
    "    \n",
    "    # Request and print url for name and address of hotel\n",
    "    name_address = requests.get(base_url, params=params)\n",
    "    \n",
    "    # Convert to json\n",
    "    name_address = name_address.json()\n",
    "    \n",
    "    try:\n",
    "        hotel_name.append(name_address['results'][0]['name'])\n",
    "    except IndexError:\n",
    "        hotel_name.append(np.nan)    "
   ]
  },
  {
   "cell_type": "code",
   "execution_count": 60,
   "metadata": {},
   "outputs": [
    {
     "data": {
      "text/plain": [
       "[nan, nan, nan, nan, nan, nan, nan, nan, nan, nan, nan, nan, nan, nan, nan, nan, nan, nan, nan, nan, nan, nan, nan, nan, nan, nan, nan, nan, nan, nan, nan, nan, nan, nan, nan, nan, nan, nan, nan, nan, nan, nan, nan, nan, nan, nan, nan, nan, nan, nan, nan, nan, nan, nan, nan, nan, nan, nan, nan, nan, nan, nan, nan, nan, nan, nan, nan, nan, nan, nan, nan, nan, nan, nan, nan, nan, nan, nan, nan, nan, nan, nan, nan, nan, nan, nan, nan, nan, nan, nan, nan, nan, nan, nan, nan, nan, nan, nan, nan, nan, nan, nan, nan, nan, nan, nan, nan, nan, nan, nan, nan, nan, nan, nan, nan, nan, nan, nan, nan, nan, nan, nan, nan, nan, nan, nan, nan, nan, nan, nan, nan, nan, nan, nan, nan, nan, nan, nan, nan, nan, nan, nan, nan, nan, nan, nan, nan, nan, nan, nan, nan, nan, nan, nan, nan, nan, nan, nan, nan, nan, nan, nan, nan, nan, nan, nan, nan, nan, nan, nan, nan, nan, nan, nan, nan, nan, nan, nan, nan, nan, nan, nan, nan, nan, nan, nan, nan, nan, nan, nan, nan, nan, nan, nan, nan, nan, nan, nan, nan, nan, nan, nan, nan, nan, nan, nan, nan, nan, nan, nan, nan, nan, nan, nan, nan, nan, nan, nan, nan, nan, nan, nan, nan, nan, nan, nan, nan, nan, nan, nan, nan, nan, nan, nan, nan, nan, nan, nan, nan, nan, nan, nan, nan, nan, nan, nan, nan, nan, nan, nan, nan, nan, nan, nan, nan, nan, nan, nan, nan, nan, nan, nan, nan, nan, nan, nan, nan, nan, nan, nan, nan, nan, nan, nan, nan, nan, nan, nan, nan, nan, nan, nan, nan, nan, nan, nan, nan, nan, nan, nan, nan, nan, nan, nan, nan, nan, nan, nan, nan, nan, nan, nan, nan, nan, nan, nan, nan, nan, nan, nan, nan, nan, nan, nan, nan, nan, nan, nan, nan, nan, nan, nan, nan, nan, nan, nan, nan, nan, nan, nan, nan, nan, nan, nan, nan, nan, nan, nan, nan, nan, nan, nan, nan, nan, nan, nan, nan, nan, nan, nan, nan, nan, nan, nan, nan, nan, nan, nan, nan, nan, nan, nan, nan, nan, nan, nan, nan, nan, nan, nan, nan, nan, nan, nan, nan, nan, nan, nan, nan, nan, nan, nan, nan, nan, nan, nan, nan, nan, nan, nan, nan, nan, nan, nan, nan, nan, nan, nan, nan, nan, nan, nan, nan, nan, nan, nan, nan, nan, nan, nan, nan, nan, nan, nan, nan, nan, nan, nan, nan, nan, nan, nan, nan, nan, nan, nan, nan, nan, nan, nan, nan, nan, nan, nan, nan, nan, nan, nan, nan, nan, nan, nan, nan, nan, nan, nan, nan, nan, nan, nan, nan, nan, nan, nan, nan, nan, nan, nan, nan, nan, nan, nan, nan, nan, nan, nan, nan, nan, nan, nan, nan, nan, nan, nan, nan, nan, nan, nan, nan, nan, nan, nan, nan, nan, nan, nan, nan, nan, nan, nan, nan, nan, nan, nan, nan, nan, nan, nan, nan, nan, nan, nan, nan, nan, nan, nan, nan, nan, nan, nan, nan, nan, nan, nan, nan, nan, nan, nan, nan, nan, nan, nan, nan, nan, nan, nan, nan, nan, nan, nan, nan, nan, nan, nan, nan, nan, nan, nan, nan]"
      ]
     },
     "execution_count": 60,
     "metadata": {},
     "output_type": "execute_result"
    }
   ],
   "source": [
    "hotel_name"
   ]
  },
  {
   "cell_type": "code",
   "execution_count": 61,
   "metadata": {},
   "outputs": [],
   "source": [
    "hotel_df['Hotel Name']= hotel_name\n",
    "hotel_df.dropna()\n",
    "hotel_df.to_csv('hotel_export.csv')"
   ]
  },
  {
   "cell_type": "code",
   "execution_count": 62,
   "metadata": {},
   "outputs": [],
   "source": [
    "# NOTE: Do not change any of the code in this cell\n",
    "\n",
    "# Using the template add the hotel marks to the heatmap\n",
    "info_box_template = \"\"\"\n",
    "<dl>\n",
    "<dt>Name</dt><dd>{Hotel Name}</dd>\n",
    "<dt>City</dt><dd>{City}</dd>\n",
    "<dt>Country</dt><dd>{Country}</dd>\n",
    "</dl>\n",
    "\"\"\"\n",
    "# Store the DataFrame Row\n",
    "# NOTE: be sure to update with your DataFrame name\n",
    "hotel_info = [info_box_template.format(**row) for index, row in hotel_df.iterrows()]\n",
    "locations = hotel_df[[\"Lat\", \"Lng\"]]"
   ]
  },
  {
   "cell_type": "code",
   "execution_count": 63,
   "metadata": {},
   "outputs": [
    {
     "data": {
      "application/vnd.jupyter.widget-view+json": {
       "model_id": "74c45802a2034631b2b14fd33cbca068",
       "version_major": 2,
       "version_minor": 0
      },
      "text/plain": [
       "Figure(layout=FigureLayout(height='420px'))"
      ]
     },
     "metadata": {},
     "output_type": "display_data"
    }
   ],
   "source": [
    "# Add marker layer ontop of heat map\n",
    "markers = gmaps.marker_layer(locations)\n",
    "fig.add_layer(markers)\n",
    "fig\n",
    "# Display figure\n"
   ]
  },
  {
   "cell_type": "code",
   "execution_count": null,
   "metadata": {},
   "outputs": [],
   "source": []
  }
 ],
 "metadata": {
  "kernelspec": {
   "display_name": "Python 3",
   "language": "python",
   "name": "python3"
  },
  "language_info": {
   "codemirror_mode": {
    "name": "ipython",
    "version": 3
   },
   "file_extension": ".py",
   "mimetype": "text/x-python",
   "name": "python",
   "nbconvert_exporter": "python",
   "pygments_lexer": "ipython3",
   "version": "3.8.5"
  },
  "latex_envs": {
   "LaTeX_envs_menu_present": true,
   "autoclose": false,
   "autocomplete": true,
   "bibliofile": "biblio.bib",
   "cite_by": "apalike",
   "current_citInitial": 1,
   "eqLabelWithNumbers": true,
   "eqNumInitial": 1,
   "hotkeys": {
    "equation": "Ctrl-E",
    "itemize": "Ctrl-I"
   },
   "labels_anchors": false,
   "latex_user_defs": false,
   "report_style_numbering": false,
   "user_envs_cfg": false
  }
 },
 "nbformat": 4,
 "nbformat_minor": 4
}
